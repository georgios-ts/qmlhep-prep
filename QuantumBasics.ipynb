{
 "cells": [
  {
   "cell_type": "markdown",
   "metadata": {},
   "source": [
    "## Quantum Part\n",
    "\n",
    "\n",
    "***"
   ]
  },
  {
   "cell_type": "code",
   "execution_count": 1,
   "metadata": {},
   "outputs": [],
   "source": [
    "import cirq\n",
    "import numpy as np\n",
    "import matplotlib.pyplot as plt\n",
    "\n",
    "font  = {'family': 'serif',\n",
    "         'weight': 'normal',\n",
    "         'size': 11}"
   ]
  },
  {
   "cell_type": "code",
   "execution_count": 2,
   "metadata": {},
   "outputs": [
    {
     "name": "stdout",
     "output_type": "stream",
     "text": [
      "                                             ┌─────────┐\n",
      "(0, 0): ───H───@──────────────────────────────×────────────Rx(0.5π)───\n",
      "               │                              │\n",
      "(0, 1): ───H───X───@───Rx(0.5π)───────────────┼───────────────────────\n",
      "                   │                          │\n",
      "(0, 2): ───H───────X───@──────────Rx(0.5π)────┼───────────────────────\n",
      "                       │                      │\n",
      "(0, 3): ───H───────────X──────────@───────────┼Rx(0.5π)───────────────\n",
      "                                  │           │\n",
      "(0, 4): ───H──────────────────────X───────────×────────────Rx(0.5π)───\n",
      "                                             └─────────┘\n"
     ]
    }
   ],
   "source": [
    "nqubits = 5\n",
    "qubits  = [cirq.GridQubit(0, x) for x in range(nqubits)]\n",
    "\n",
    "circuit = cirq.Circuit()\n",
    "\n",
    "# Apply Hadamard operation on every qubit\n",
    "circuit.append(cirq.H(q) for q in qubits)\n",
    "\n",
    "# Apply CNOT operation on (0, 1), (1,2), (2,3), (3,4)\n",
    "circuit.append(cirq.CNOT(qubits[i], qubits[i+1]) for i in range(nqubits-1))\n",
    "\n",
    "# SWAP (0, 4)\n",
    "circuit.append(cirq.SWAP(qubits[0], qubits[4]))\n",
    "\n",
    "# Rotate X with pi/2\n",
    "circuit.append(cirq.rx(np.pi/2)(q) for q in qubits)\n",
    "\n",
    "# Plot the circuit\n",
    "print(circuit)"
   ]
  },
  {
   "cell_type": "markdown",
   "metadata": {},
   "source": [
    "### $R_x(\\theta)$ rotations for various angles $ \\theta $\n",
    "\n",
    "Theoretical result: $ p_{\\theta} = cos^2(\\frac{\\theta}{2}) $"
   ]
  },
  {
   "cell_type": "code",
   "execution_count": 3,
   "metadata": {},
   "outputs": [
    {
     "data": {
      "image/png": "[encoded data removed]",
      "text/plain": [
       "<Figure size 432x288 with 1 Axes>"
      ]
     },
     "metadata": {},
     "output_type": "display_data"
    }
   ],
   "source": [
    "q   = cirq.GridQubit(0,0)\n",
    "sim = cirq.Simulator()\n",
    "\n",
    "probs = []\n",
    "Nr = 1000\n",
    "for theta in np.linspace(0, np.pi, 30):\n",
    "    c   = cirq.Circuit(cirq.rx(theta)(q), \n",
    "                       cirq.measure(q, key='m'))\n",
    "    result = sim.run(c, \n",
    "                     repetitions=Nr)\n",
    "    p = result.histogram(key='m').get(0, 0) / Nr\n",
    "    probs.append(p)\n",
    "    \n",
    "    \n",
    "with plt.style.context('seaborn-whitegrid'):\n",
    "    \n",
    "    theta  = np.linspace(0, np.pi, 30)  \n",
    "    plt.plot(theta, probs, \n",
    "             c='darkgreen', alpha=.9, label='Simulation')\n",
    "    \n",
    "    # theoretical results \n",
    "    probs_ = np.cos(theta/2)**2 \n",
    "    plt.plot(theta, probs_, \n",
    "             c='darkorange', alpha=.4, label='Theory')\n",
    "    \n",
    "    \n",
    "    plt.title('Rx rotations', \n",
    "              fontdict=font)\n",
    "    plt.legend(loc='best', \n",
    "               fontsize=11, )\n",
    "    plt.xlabel('angle (rad)', \n",
    "               fontdict=font)\n",
    "    plt.ylabel('Probability of |0⟩ state', \n",
    "               fontdict=font)"
   ]
  }
 ],
 "metadata": {
  "kernelspec": {
   "display_name": "Python 3",
   "language": "python",
   "name": "python3"
  },
  "language_info": {
   "codemirror_mode": {
    "name": "ipython",
    "version": 3
   },
   "file_extension": ".py",
   "mimetype": "text/x-python",
   "name": "python",
   "nbconvert_exporter": "python",
   "pygments_lexer": "ipython3",
   "version": "3.7.1"
  }
 },
 "nbformat": 4,
 "nbformat_minor": 2
}
